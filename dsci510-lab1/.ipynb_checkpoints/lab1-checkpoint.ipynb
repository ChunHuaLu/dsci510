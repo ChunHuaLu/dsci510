{
 "cells": [
  {
   "cell_type": "markdown",
   "metadata": {},
   "source": [
    "<h3 style=\"color:navy\"> DSCI 510 Lab 1  </h3>"
   ]
  },
  {
   "cell_type": "code",
   "execution_count": 1,
   "metadata": {},
   "outputs": [
    {
     "name": "stdout",
     "output_type": "stream",
     "text": [
      "Welcome to DSCI510!\n"
     ]
    }
   ],
   "source": [
    "print(\"Welcome to DSCI510!\")"
   ]
  },
  {
   "cell_type": "markdown",
   "metadata": {},
   "source": [
    "<div>\n",
    "<h2> Python for Everybody</h2>\n",
    "<h3 style =\"color:navy\"> Chapter 1 </h3>\n",
    "</div>"
   ]
  },
  {
   "cell_type": "markdown",
   "metadata": {},
   "source": [
    "### Computer hardware architecture\n",
    "- Central Processing Unit (CPU)\n",
    "- Main Memory\n",
    "    - store information that the CPU needs and is nearly as fast as CPU\n",
    "- Secondary Memory\n",
    "    - slower than main memory, can store memory when there is no power to the computer\n",
    "- Input & Output Devices\n",
    "    - screen, keyboard, mouse..."
   ]
  },
  {
   "cell_type": "markdown",
   "metadata": {},
   "source": [
    "### Interpreter & compiler\n",
    "Interpreter\n",
    "- interpreter is a computer program that directly executes instructions written in a programming or scripting language, without requiring them previously to have been compiled into a machine language program.\n"
   ]
  },
  {
   "cell_type": "markdown",
   "metadata": {},
   "source": [
    "Compiler\n",
    "- needs to be handed the entire program in a file, and translate high-level source code to machine language and then the compiler puts the resulting machine language into a file for later execution"
   ]
  },
  {
   "cell_type": "markdown",
   "metadata": {},
   "source": [
    "<h3 style =\"color:navy\"> Chapter 2 </h3>"
   ]
  },
  {
   "cell_type": "markdown",
   "metadata": {},
   "source": [
    "### Values & types"
   ]
  },
  {
   "cell_type": "code",
   "execution_count": 2,
   "metadata": {},
   "outputs": [
    {
     "name": "stdout",
     "output_type": "stream",
     "text": [
      "4\n",
      "<class 'str'>\n",
      "<class 'int'>\n",
      "<class 'float'>\n",
      "<class 'str'>\n",
      "<class 'str'>\n"
     ]
    }
   ],
   "source": [
    "print(4)\n",
    "print(type(\"Hello World\"))\n",
    "print(type(17))\n",
    "print(type(3.2))\n",
    "print(type(\"17\"))\n",
    "print(type(\"3.2\"))"
   ]
  },
  {
   "cell_type": "markdown",
   "metadata": {},
   "source": [
    "### Operations and Operands"
   ]
  },
  {
   "cell_type": "code",
   "execution_count": 13,
   "metadata": {},
   "outputs": [
    {
     "name": "stdout",
     "output_type": "stream",
     "text": [
      "modulus 59 / 60\n",
      "0.9833333333333333\n",
      "modulus 59 // 60\n",
      "0\n",
      "remainder\n",
      "modulus 59 % 5\n",
      "4\n",
      "exponential 59**3 == 59*59*59\n",
      "205379\n"
     ]
    }
   ],
   "source": [
    "minute = 59\n",
    "print(\"modulus 59 / 60\")\n",
    "print(minute/60)\n",
    "print(\"modulus 59 // 60\")\n",
    "print(minute//60)\n",
    "print(\"remainder\")\n",
    "print(\"modulus 59 % 5\")\n",
    "print(minute%5)\n",
    "print(\"exponential 59**3 == 59*59*59\")\n",
    "print(minute**3)"
   ]
  },
  {
   "cell_type": "markdown",
   "metadata": {},
   "source": [
    "### string operation"
   ]
  },
  {
   "cell_type": "code",
   "execution_count": 4,
   "metadata": {},
   "outputs": [
    {
     "name": "stdout",
     "output_type": "stream",
     "text": [
      "100200\n",
      "100100100\n"
     ]
    }
   ],
   "source": [
    "first = \"100\"\n",
    "second = \"200\"\n",
    "print(first+second)\n",
    "print(first*3)"
   ]
  },
  {
   "cell_type": "markdown",
   "metadata": {},
   "source": [
    "### user input"
   ]
  },
  {
   "cell_type": "code",
   "execution_count": 6,
   "metadata": {},
   "outputs": [
    {
     "name": "stdout",
     "output_type": "stream",
     "text": [
      "30\n"
     ]
    }
   ],
   "source": [
    "string_input = input()"
   ]
  },
  {
   "cell_type": "code",
   "execution_count": 7,
   "metadata": {},
   "outputs": [
    {
     "name": "stdout",
     "output_type": "stream",
     "text": [
      "<class 'str'>\n",
      "<class 'int'>\n"
     ]
    }
   ],
   "source": [
    "print(type(string_input))\n",
    "int_input = int(is_string)\n",
    "print(type(int_input))"
   ]
  },
  {
   "cell_type": "markdown",
   "metadata": {},
   "source": [
    "<h3 style=\"color:navy\"> Chapter 3 </h3>"
   ]
  },
  {
   "cell_type": "code",
   "execution_count": 10,
   "metadata": {},
   "outputs": [
    {
     "name": "stdout",
     "output_type": "stream",
     "text": [
      "True\n",
      "False\n",
      "<class 'bool'>\n"
     ]
    }
   ],
   "source": [
    "# Boolean expression\n",
    "print(5==5)\n",
    "print(5==7)\n",
    "print(type(True))"
   ]
  },
  {
   "cell_type": "markdown",
   "metadata": {},
   "source": [
    "- single sign(=) \n",
    "    - assign value\n",
    "- double equal sign (==)\n",
    "    - compare value"
   ]
  },
  {
   "cell_type": "code",
   "execution_count": 11,
   "metadata": {},
   "outputs": [
    {
     "name": "stdout",
     "output_type": "stream",
     "text": [
      "5 is less than 10\n",
      "done\n"
     ]
    }
   ],
   "source": [
    "# conditional execution\n",
    "num = 5\n",
    "if num <10:\n",
    "    print(\"5 is less than 10\")\n",
    "if num > 20:\n",
    "    print(\"5 is larger than 20\")\n",
    "print(\"done\")"
   ]
  },
  {
   "cell_type": "code",
   "execution_count": 12,
   "metadata": {},
   "outputs": [
    {
     "name": "stdout",
     "output_type": "stream",
     "text": [
      "doesn't satisfy\n"
     ]
    }
   ],
   "source": [
    "# chained conditionals\n",
    "num = 10\n",
    "if num <10:\n",
    "    print(\"5 is less than 10\")\n",
    "elif num > 20:\n",
    "    print(\"5 is larger than 20\")\n",
    "else:\n",
    "    print(\"doesn't satisfy\")"
   ]
  },
  {
   "cell_type": "markdown",
   "metadata": {},
   "source": [
    "### catching exceptions"
   ]
  },
  {
   "cell_type": "code",
   "execution_count": 15,
   "metadata": {},
   "outputs": [
    {
     "name": "stdout",
     "output_type": "stream",
     "text": [
      "Enter Fahrenheit Temperature :  hi\n",
      "plz enter a number\n"
     ]
    }
   ],
   "source": [
    "temperature = input('Enter Fahrenheit Temperature :  ')\n",
    "try:\n",
    "    fahr = int(temperature)\n",
    "    cel = (fahr-32.0) * 5.0 / 9.0\n",
    "    print(cel)\n",
    "except:\n",
    "    print(\"plz enter a number\")"
   ]
  },
  {
   "cell_type": "code",
   "execution_count": null,
   "metadata": {},
   "outputs": [],
   "source": []
  }
 ],
 "metadata": {
  "kernelspec": {
   "display_name": "Python 3",
   "language": "python",
   "name": "python3"
  },
  "language_info": {
   "codemirror_mode": {
    "name": "ipython",
    "version": 3
   },
   "file_extension": ".py",
   "mimetype": "text/x-python",
   "name": "python",
   "nbconvert_exporter": "python",
   "pygments_lexer": "ipython3",
   "version": "3.7.4"
  }
 },
 "nbformat": 4,
 "nbformat_minor": 2
}
